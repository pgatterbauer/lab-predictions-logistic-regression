{
 "cells": [
  {
   "cell_type": "code",
   "execution_count": 5,
   "id": "fbcadbd3-76e4-4b7f-82e7-1b792a980129",
   "metadata": {},
   "outputs": [
    {
     "name": "stdout",
     "output_type": "stream",
     "text": [
      "········\n"
     ]
    }
   ],
   "source": [
    "import pymysql\n",
    "from sqlalchemy import create_engine\n",
    "import pandas as pd\n",
    "import getpass  # To get the password without showing the input\n",
    "from sklearn.preprocessing import StandardScaler\n",
    "import numpy as np\n",
    "import matplotlib.pyplot as plt\n",
    "from sklearn.model_selection import train_test_split\n",
    "from sklearn.linear_model import LogisticRegression\n",
    "import seaborn as sns\n",
    "\n",
    "%matplotlib inline\n",
    "password = getpass.getpass()\n",
    "connection_string = 'mysql+pymysql://root:' + password + '@localhost/sakila'\n",
    "engine = create_engine(connection_string)\n"
   ]
  },
  {
   "cell_type": "markdown",
   "id": "69b2bce3-5fbb-415c-aac8-b02ca86145d7",
   "metadata": {},
   "source": [
    "#### Create a query or queries to extract the information you think may be relevant for building the prediction model. It should include some film features and some rental features.\n",
    "#### Read the data into a Pandas dataframe."
   ]
  },
  {
   "cell_type": "markdown",
   "id": "830ab6ad-eb62-424a-bba3-104ac5cbe98b",
   "metadata": {},
   "source": [
    "#### Create a query to get the list of films and a boolean indicating if it was rented last month. This would be our target variable."
   ]
  },
  {
   "cell_type": "code",
   "execution_count": 7,
   "id": "4e1afbcf-8ac9-4000-9555-a8c6089ccfbb",
   "metadata": {},
   "outputs": [
    {
     "data": {
      "text/html": [
       "<div>\n",
       "<style scoped>\n",
       "    .dataframe tbody tr th:only-of-type {\n",
       "        vertical-align: middle;\n",
       "    }\n",
       "\n",
       "    .dataframe tbody tr th {\n",
       "        vertical-align: top;\n",
       "    }\n",
       "\n",
       "    .dataframe thead th {\n",
       "        text-align: right;\n",
       "    }\n",
       "</style>\n",
       "<table border=\"1\" class=\"dataframe\">\n",
       "  <thead>\n",
       "    <tr style=\"text-align: right;\">\n",
       "      <th></th>\n",
       "      <th>title</th>\n",
       "      <th>rental_date</th>\n",
       "      <th>rental_duration</th>\n",
       "      <th>last_month</th>\n",
       "      <th>Boolean_check</th>\n",
       "      <th>length</th>\n",
       "      <th>rating</th>\n",
       "      <th>name</th>\n",
       "    </tr>\n",
       "  </thead>\n",
       "  <tbody>\n",
       "    <tr>\n",
       "      <th>0</th>\n",
       "      <td>ACADEMY DINOSAUR</td>\n",
       "      <td>2022-02-05 12:46:06</td>\n",
       "      <td>6</td>\n",
       "      <td>2022-02</td>\n",
       "      <td>0</td>\n",
       "      <td>86</td>\n",
       "      <td>PG</td>\n",
       "      <td>Documentary</td>\n",
       "    </tr>\n",
       "    <tr>\n",
       "      <th>1</th>\n",
       "      <td>ZHIVAGO CORE</td>\n",
       "      <td>2006-02-14 15:16:03</td>\n",
       "      <td>6</td>\n",
       "      <td>2006-02</td>\n",
       "      <td>1</td>\n",
       "      <td>105</td>\n",
       "      <td>NC-17</td>\n",
       "      <td>Horror</td>\n",
       "    </tr>\n",
       "    <tr>\n",
       "      <th>2</th>\n",
       "      <td>WORLD LEATHERNECKS</td>\n",
       "      <td>2006-02-14 15:16:03</td>\n",
       "      <td>3</td>\n",
       "      <td>2006-02</td>\n",
       "      <td>1</td>\n",
       "      <td>171</td>\n",
       "      <td>PG-13</td>\n",
       "      <td>Horror</td>\n",
       "    </tr>\n",
       "    <tr>\n",
       "      <th>3</th>\n",
       "      <td>WOMEN DORADO</td>\n",
       "      <td>2006-02-14 15:16:03</td>\n",
       "      <td>4</td>\n",
       "      <td>2006-02</td>\n",
       "      <td>1</td>\n",
       "      <td>126</td>\n",
       "      <td>R</td>\n",
       "      <td>Action</td>\n",
       "    </tr>\n",
       "    <tr>\n",
       "      <th>4</th>\n",
       "      <td>WINDOW SIDE</td>\n",
       "      <td>2006-02-14 15:16:03</td>\n",
       "      <td>3</td>\n",
       "      <td>2006-02</td>\n",
       "      <td>1</td>\n",
       "      <td>85</td>\n",
       "      <td>R</td>\n",
       "      <td>Travel</td>\n",
       "    </tr>\n",
       "    <tr>\n",
       "      <th>...</th>\n",
       "      <td>...</td>\n",
       "      <td>...</td>\n",
       "      <td>...</td>\n",
       "      <td>...</td>\n",
       "      <td>...</td>\n",
       "      <td>...</td>\n",
       "      <td>...</td>\n",
       "      <td>...</td>\n",
       "    </tr>\n",
       "    <tr>\n",
       "      <th>16040</th>\n",
       "      <td>IDOLS SNATCHERS</td>\n",
       "      <td>2005-05-24 23:05:21</td>\n",
       "      <td>5</td>\n",
       "      <td>2005-05</td>\n",
       "      <td>0</td>\n",
       "      <td>84</td>\n",
       "      <td>NC-17</td>\n",
       "      <td>Children</td>\n",
       "    </tr>\n",
       "    <tr>\n",
       "      <th>16041</th>\n",
       "      <td>LOVE SUICIDES</td>\n",
       "      <td>2005-05-24 23:04:41</td>\n",
       "      <td>6</td>\n",
       "      <td>2005-05</td>\n",
       "      <td>0</td>\n",
       "      <td>181</td>\n",
       "      <td>R</td>\n",
       "      <td>Horror</td>\n",
       "    </tr>\n",
       "    <tr>\n",
       "      <th>16042</th>\n",
       "      <td>GRADUATE LORD</td>\n",
       "      <td>2005-05-24 23:03:39</td>\n",
       "      <td>7</td>\n",
       "      <td>2005-05</td>\n",
       "      <td>0</td>\n",
       "      <td>156</td>\n",
       "      <td>G</td>\n",
       "      <td>Children</td>\n",
       "    </tr>\n",
       "    <tr>\n",
       "      <th>16043</th>\n",
       "      <td>FREAKY POCUS</td>\n",
       "      <td>2005-05-24 22:54:33</td>\n",
       "      <td>7</td>\n",
       "      <td>2005-05</td>\n",
       "      <td>0</td>\n",
       "      <td>126</td>\n",
       "      <td>R</td>\n",
       "      <td>Music</td>\n",
       "    </tr>\n",
       "    <tr>\n",
       "      <th>16044</th>\n",
       "      <td>BLANKET BEVERLY</td>\n",
       "      <td>2005-05-24 22:53:30</td>\n",
       "      <td>7</td>\n",
       "      <td>2005-05</td>\n",
       "      <td>0</td>\n",
       "      <td>148</td>\n",
       "      <td>G</td>\n",
       "      <td>Family</td>\n",
       "    </tr>\n",
       "  </tbody>\n",
       "</table>\n",
       "<p>16045 rows × 8 columns</p>\n",
       "</div>"
      ],
      "text/plain": [
       "                    title         rental_date  rental_duration last_month  \\\n",
       "0        ACADEMY DINOSAUR 2022-02-05 12:46:06                6    2022-02   \n",
       "1            ZHIVAGO CORE 2006-02-14 15:16:03                6    2006-02   \n",
       "2      WORLD LEATHERNECKS 2006-02-14 15:16:03                3    2006-02   \n",
       "3            WOMEN DORADO 2006-02-14 15:16:03                4    2006-02   \n",
       "4             WINDOW SIDE 2006-02-14 15:16:03                3    2006-02   \n",
       "...                   ...                 ...              ...        ...   \n",
       "16040     IDOLS SNATCHERS 2005-05-24 23:05:21                5    2005-05   \n",
       "16041       LOVE SUICIDES 2005-05-24 23:04:41                6    2005-05   \n",
       "16042       GRADUATE LORD 2005-05-24 23:03:39                7    2005-05   \n",
       "16043        FREAKY POCUS 2005-05-24 22:54:33                7    2005-05   \n",
       "16044     BLANKET BEVERLY 2005-05-24 22:53:30                7    2005-05   \n",
       "\n",
       "       Boolean_check  length rating         name  \n",
       "0                  0      86     PG  Documentary  \n",
       "1                  1     105  NC-17       Horror  \n",
       "2                  1     171  PG-13       Horror  \n",
       "3                  1     126      R       Action  \n",
       "4                  1      85      R       Travel  \n",
       "...              ...     ...    ...          ...  \n",
       "16040              0      84  NC-17     Children  \n",
       "16041              0     181      R       Horror  \n",
       "16042              0     156      G     Children  \n",
       "16043              0     126      R        Music  \n",
       "16044              0     148      G       Family  \n",
       "\n",
       "[16045 rows x 8 columns]"
      ]
     },
     "execution_count": 7,
     "metadata": {},
     "output_type": "execute_result"
    }
   ],
   "source": [
    "sql_query = '''select f.title, \n",
    "r.rental_date, \n",
    "f.rental_duration,\n",
    "SUBSTRING(r.rental_date, 1, 7) AS last_month, \n",
    "CASE WHEN SUBSTRING(r.rental_date, 1, 7) = '2006-02' THEN 1 ELSE 0 END AS Boolean_check,\n",
    "f.length, \n",
    "f.rating, \n",
    "c.name\n",
    "\n",
    "\n",
    "from rental r\n",
    "left join inventory i\n",
    "on r.inventory_id = i.inventory_id\n",
    "\n",
    "left join film f\n",
    "on i.film_id = f.film_id\n",
    "\n",
    "left join film_category fc\n",
    "on fc.film_id = f.film_id\n",
    "\n",
    "left join category c\n",
    "on c.category_id = fc.category_id\n",
    "\n",
    "order by r.rental_date desc\n",
    ";'''\n",
    "\n",
    "\n",
    "df = pd.read_sql_query(blah, engine)\n",
    "df"
   ]
  },
  {
   "cell_type": "code",
   "execution_count": 8,
   "id": "5a2c9e4f-6a60-4943-9052-29b4cdcc15f1",
   "metadata": {},
   "outputs": [
    {
     "data": {
      "text/html": [
       "<div>\n",
       "<style scoped>\n",
       "    .dataframe tbody tr th:only-of-type {\n",
       "        vertical-align: middle;\n",
       "    }\n",
       "\n",
       "    .dataframe tbody tr th {\n",
       "        vertical-align: top;\n",
       "    }\n",
       "\n",
       "    .dataframe thead th {\n",
       "        text-align: right;\n",
       "    }\n",
       "</style>\n",
       "<table border=\"1\" class=\"dataframe\">\n",
       "  <thead>\n",
       "    <tr style=\"text-align: right;\">\n",
       "      <th></th>\n",
       "      <th>title</th>\n",
       "      <th>rental_date</th>\n",
       "      <th>rental_duration</th>\n",
       "      <th>last_month</th>\n",
       "      <th>Boolean_check</th>\n",
       "      <th>length</th>\n",
       "      <th>rating</th>\n",
       "      <th>name</th>\n",
       "    </tr>\n",
       "  </thead>\n",
       "  <tbody>\n",
       "    <tr>\n",
       "      <th>1</th>\n",
       "      <td>ZHIVAGO CORE</td>\n",
       "      <td>2006-02-14 15:16:03</td>\n",
       "      <td>6</td>\n",
       "      <td>2006-02</td>\n",
       "      <td>1</td>\n",
       "      <td>105</td>\n",
       "      <td>NC-17</td>\n",
       "      <td>Horror</td>\n",
       "    </tr>\n",
       "    <tr>\n",
       "      <th>2</th>\n",
       "      <td>WORLD LEATHERNECKS</td>\n",
       "      <td>2006-02-14 15:16:03</td>\n",
       "      <td>3</td>\n",
       "      <td>2006-02</td>\n",
       "      <td>1</td>\n",
       "      <td>171</td>\n",
       "      <td>PG-13</td>\n",
       "      <td>Horror</td>\n",
       "    </tr>\n",
       "    <tr>\n",
       "      <th>3</th>\n",
       "      <td>WOMEN DORADO</td>\n",
       "      <td>2006-02-14 15:16:03</td>\n",
       "      <td>4</td>\n",
       "      <td>2006-02</td>\n",
       "      <td>1</td>\n",
       "      <td>126</td>\n",
       "      <td>R</td>\n",
       "      <td>Action</td>\n",
       "    </tr>\n",
       "    <tr>\n",
       "      <th>4</th>\n",
       "      <td>WINDOW SIDE</td>\n",
       "      <td>2006-02-14 15:16:03</td>\n",
       "      <td>3</td>\n",
       "      <td>2006-02</td>\n",
       "      <td>1</td>\n",
       "      <td>85</td>\n",
       "      <td>R</td>\n",
       "      <td>Travel</td>\n",
       "    </tr>\n",
       "    <tr>\n",
       "      <th>5</th>\n",
       "      <td>WILD APOLLO</td>\n",
       "      <td>2006-02-14 15:16:03</td>\n",
       "      <td>4</td>\n",
       "      <td>2006-02</td>\n",
       "      <td>1</td>\n",
       "      <td>181</td>\n",
       "      <td>R</td>\n",
       "      <td>New</td>\n",
       "    </tr>\n",
       "    <tr>\n",
       "      <th>...</th>\n",
       "      <td>...</td>\n",
       "      <td>...</td>\n",
       "      <td>...</td>\n",
       "      <td>...</td>\n",
       "      <td>...</td>\n",
       "      <td>...</td>\n",
       "      <td>...</td>\n",
       "      <td>...</td>\n",
       "    </tr>\n",
       "    <tr>\n",
       "      <th>16040</th>\n",
       "      <td>IDOLS SNATCHERS</td>\n",
       "      <td>2005-05-24 23:05:21</td>\n",
       "      <td>5</td>\n",
       "      <td>2005-05</td>\n",
       "      <td>0</td>\n",
       "      <td>84</td>\n",
       "      <td>NC-17</td>\n",
       "      <td>Children</td>\n",
       "    </tr>\n",
       "    <tr>\n",
       "      <th>16041</th>\n",
       "      <td>LOVE SUICIDES</td>\n",
       "      <td>2005-05-24 23:04:41</td>\n",
       "      <td>6</td>\n",
       "      <td>2005-05</td>\n",
       "      <td>0</td>\n",
       "      <td>181</td>\n",
       "      <td>R</td>\n",
       "      <td>Horror</td>\n",
       "    </tr>\n",
       "    <tr>\n",
       "      <th>16042</th>\n",
       "      <td>GRADUATE LORD</td>\n",
       "      <td>2005-05-24 23:03:39</td>\n",
       "      <td>7</td>\n",
       "      <td>2005-05</td>\n",
       "      <td>0</td>\n",
       "      <td>156</td>\n",
       "      <td>G</td>\n",
       "      <td>Children</td>\n",
       "    </tr>\n",
       "    <tr>\n",
       "      <th>16043</th>\n",
       "      <td>FREAKY POCUS</td>\n",
       "      <td>2005-05-24 22:54:33</td>\n",
       "      <td>7</td>\n",
       "      <td>2005-05</td>\n",
       "      <td>0</td>\n",
       "      <td>126</td>\n",
       "      <td>R</td>\n",
       "      <td>Music</td>\n",
       "    </tr>\n",
       "    <tr>\n",
       "      <th>16044</th>\n",
       "      <td>BLANKET BEVERLY</td>\n",
       "      <td>2005-05-24 22:53:30</td>\n",
       "      <td>7</td>\n",
       "      <td>2005-05</td>\n",
       "      <td>0</td>\n",
       "      <td>148</td>\n",
       "      <td>G</td>\n",
       "      <td>Family</td>\n",
       "    </tr>\n",
       "  </tbody>\n",
       "</table>\n",
       "<p>16044 rows × 8 columns</p>\n",
       "</div>"
      ],
      "text/plain": [
       "                    title         rental_date  rental_duration last_month  \\\n",
       "1            ZHIVAGO CORE 2006-02-14 15:16:03                6    2006-02   \n",
       "2      WORLD LEATHERNECKS 2006-02-14 15:16:03                3    2006-02   \n",
       "3            WOMEN DORADO 2006-02-14 15:16:03                4    2006-02   \n",
       "4             WINDOW SIDE 2006-02-14 15:16:03                3    2006-02   \n",
       "5             WILD APOLLO 2006-02-14 15:16:03                4    2006-02   \n",
       "...                   ...                 ...              ...        ...   \n",
       "16040     IDOLS SNATCHERS 2005-05-24 23:05:21                5    2005-05   \n",
       "16041       LOVE SUICIDES 2005-05-24 23:04:41                6    2005-05   \n",
       "16042       GRADUATE LORD 2005-05-24 23:03:39                7    2005-05   \n",
       "16043        FREAKY POCUS 2005-05-24 22:54:33                7    2005-05   \n",
       "16044     BLANKET BEVERLY 2005-05-24 22:53:30                7    2005-05   \n",
       "\n",
       "       Boolean_check  length rating      name  \n",
       "1                  1     105  NC-17    Horror  \n",
       "2                  1     171  PG-13    Horror  \n",
       "3                  1     126      R    Action  \n",
       "4                  1      85      R    Travel  \n",
       "5                  1     181      R       New  \n",
       "...              ...     ...    ...       ...  \n",
       "16040              0      84  NC-17  Children  \n",
       "16041              0     181      R    Horror  \n",
       "16042              0     156      G  Children  \n",
       "16043              0     126      R     Music  \n",
       "16044              0     148      G    Family  \n",
       "\n",
       "[16044 rows x 8 columns]"
      ]
     },
     "execution_count": 8,
     "metadata": {},
     "output_type": "execute_result"
    }
   ],
   "source": [
    "df = df.drop(0) # just to drop unneccessary first row\n",
    "df"
   ]
  },
  {
   "cell_type": "code",
   "execution_count": 9,
   "id": "76815ad9-5e2a-4ace-8ca3-ce575741a29c",
   "metadata": {},
   "outputs": [
    {
     "data": {
      "text/plain": [
       "(16044, 8)"
      ]
     },
     "execution_count": 9,
     "metadata": {},
     "output_type": "execute_result"
    }
   ],
   "source": [
    "df.shape"
   ]
  },
  {
   "cell_type": "code",
   "execution_count": 10,
   "id": "ca14aea5-9ed0-4fe3-8c4a-d6edb16bb006",
   "metadata": {},
   "outputs": [
    {
     "data": {
      "text/plain": [
       "title                      object\n",
       "rental_date        datetime64[ns]\n",
       "rental_duration             int64\n",
       "last_month                 object\n",
       "Boolean_check               int64\n",
       "length                      int64\n",
       "rating                     object\n",
       "name                       object\n",
       "dtype: object"
      ]
     },
     "execution_count": 10,
     "metadata": {},
     "output_type": "execute_result"
    }
   ],
   "source": [
    "df.dtypes"
   ]
  },
  {
   "cell_type": "code",
   "execution_count": 11,
   "id": "8e539291-b4a2-4317-be31-9479a398c301",
   "metadata": {},
   "outputs": [
    {
     "data": {
      "text/plain": [
       "title                      object\n",
       "rental_date        datetime64[ns]\n",
       "rental_duration             int64\n",
       "last_month                 object\n",
       "Boolean_check                bool\n",
       "length                      int64\n",
       "rating                     object\n",
       "name                       object\n",
       "dtype: object"
      ]
     },
     "execution_count": 11,
     "metadata": {},
     "output_type": "execute_result"
    }
   ],
   "source": [
    "df['Boolean_check'] = df['Boolean_check'].astype('bool')\n",
    "df.dtypes"
   ]
  },
  {
   "cell_type": "code",
   "execution_count": 12,
   "id": "c8b89149-3eec-4e01-9ebf-063d6010211d",
   "metadata": {},
   "outputs": [
    {
     "data": {
      "image/png": "[encoded data removed]",
      "text/plain": [
       "<Figure size 720x576 with 2 Axes>"
      ]
     },
     "metadata": {
      "needs_background": "light"
     },
     "output_type": "display_data"
    }
   ],
   "source": [
    "corr_matrix=df.corr(method='pearson')  # default\n",
    "fig, ax = plt.subplots(figsize=(10, 8))\n",
    "ax = sns.heatmap(corr_matrix, annot=True)\n",
    "plt.show()"
   ]
  },
  {
   "cell_type": "markdown",
   "id": "8b6d759d-010b-4452-b343-47bffa47586c",
   "metadata": {
    "tags": []
   },
   "source": [
    "#### Analyze extracted features and transform them. You may need to encode some categorical variables, or scale numerical variables."
   ]
  },
  {
   "cell_type": "markdown",
   "id": "aa4f34ef-7a4d-4348-b1bd-f3232570ef3c",
   "metadata": {},
   "source": [
    "#### Normalizing numeric data"
   ]
  },
  {
   "cell_type": "code",
   "execution_count": 13,
   "id": "6cdfff81-cb10-4853-9286-e6d6f97ad5df",
   "metadata": {},
   "outputs": [
    {
     "data": {
      "text/html": [
       "<div>\n",
       "<style scoped>\n",
       "    .dataframe tbody tr th:only-of-type {\n",
       "        vertical-align: middle;\n",
       "    }\n",
       "\n",
       "    .dataframe tbody tr th {\n",
       "        vertical-align: top;\n",
       "    }\n",
       "\n",
       "    .dataframe thead th {\n",
       "        text-align: right;\n",
       "    }\n",
       "</style>\n",
       "<table border=\"1\" class=\"dataframe\">\n",
       "  <thead>\n",
       "    <tr style=\"text-align: right;\">\n",
       "      <th></th>\n",
       "      <th>rental_duration</th>\n",
       "      <th>length</th>\n",
       "    </tr>\n",
       "  </thead>\n",
       "  <tbody>\n",
       "    <tr>\n",
       "      <th>0</th>\n",
       "      <td>0.759471</td>\n",
       "      <td>-0.248649</td>\n",
       "    </tr>\n",
       "    <tr>\n",
       "      <th>1</th>\n",
       "      <td>-1.380869</td>\n",
       "      <td>1.397192</td>\n",
       "    </tr>\n",
       "    <tr>\n",
       "      <th>2</th>\n",
       "      <td>-0.667422</td>\n",
       "      <td>0.275028</td>\n",
       "    </tr>\n",
       "    <tr>\n",
       "      <th>3</th>\n",
       "      <td>-1.380869</td>\n",
       "      <td>-0.747388</td>\n",
       "    </tr>\n",
       "    <tr>\n",
       "      <th>4</th>\n",
       "      <td>-0.667422</td>\n",
       "      <td>1.646561</td>\n",
       "    </tr>\n",
       "  </tbody>\n",
       "</table>\n",
       "</div>"
      ],
      "text/plain": [
       "   rental_duration    length\n",
       "0         0.759471 -0.248649\n",
       "1        -1.380869  1.397192\n",
       "2        -0.667422  0.275028\n",
       "3        -1.380869 -0.747388\n",
       "4        -0.667422  1.646561"
      ]
     },
     "execution_count": 13,
     "metadata": {},
     "output_type": "execute_result"
    }
   ],
   "source": [
    "numeric = df.select_dtypes(include = np.number)\n",
    "\n",
    "transformer = StandardScaler().fit(numeric)\n",
    "numeric_normalized = transformer.transform(numeric)\n",
    "num = pd.DataFrame(numeric_normalized)\n",
    "num.columns = numeric.columns\n",
    "num.head()"
   ]
  },
  {
   "cell_type": "code",
   "execution_count": 14,
   "id": "d2fb0aeb-b0cc-400b-aaba-aa2796a80be4",
   "metadata": {},
   "outputs": [
    {
     "data": {
      "text/plain": [
       "rental_duration    0\n",
       "length             0\n",
       "dtype: int64"
      ]
     },
     "execution_count": 14,
     "metadata": {},
     "output_type": "execute_result"
    }
   ],
   "source": [
    "numeric.isna().sum()"
   ]
  },
  {
   "cell_type": "markdown",
   "id": "3fd04a20-74ab-4efb-b572-915b3d92e2cf",
   "metadata": {},
   "source": [
    "#### Categorical data"
   ]
  },
  {
   "cell_type": "code",
   "execution_count": 15,
   "id": "99ad9396-82ca-49cb-9582-ab99b292cde8",
   "metadata": {},
   "outputs": [
    {
     "data": {
      "text/html": [
       "<div>\n",
       "<style scoped>\n",
       "    .dataframe tbody tr th:only-of-type {\n",
       "        vertical-align: middle;\n",
       "    }\n",
       "\n",
       "    .dataframe tbody tr th {\n",
       "        vertical-align: top;\n",
       "    }\n",
       "\n",
       "    .dataframe thead th {\n",
       "        text-align: right;\n",
       "    }\n",
       "</style>\n",
       "<table border=\"1\" class=\"dataframe\">\n",
       "  <thead>\n",
       "    <tr style=\"text-align: right;\">\n",
       "      <th></th>\n",
       "      <th>title</th>\n",
       "      <th>last_month</th>\n",
       "      <th>rating</th>\n",
       "      <th>name</th>\n",
       "    </tr>\n",
       "  </thead>\n",
       "  <tbody>\n",
       "    <tr>\n",
       "      <th>1</th>\n",
       "      <td>ZHIVAGO CORE</td>\n",
       "      <td>2006-02</td>\n",
       "      <td>NC-17</td>\n",
       "      <td>Horror</td>\n",
       "    </tr>\n",
       "    <tr>\n",
       "      <th>2</th>\n",
       "      <td>WORLD LEATHERNECKS</td>\n",
       "      <td>2006-02</td>\n",
       "      <td>PG-13</td>\n",
       "      <td>Horror</td>\n",
       "    </tr>\n",
       "    <tr>\n",
       "      <th>3</th>\n",
       "      <td>WOMEN DORADO</td>\n",
       "      <td>2006-02</td>\n",
       "      <td>R</td>\n",
       "      <td>Action</td>\n",
       "    </tr>\n",
       "    <tr>\n",
       "      <th>4</th>\n",
       "      <td>WINDOW SIDE</td>\n",
       "      <td>2006-02</td>\n",
       "      <td>R</td>\n",
       "      <td>Travel</td>\n",
       "    </tr>\n",
       "    <tr>\n",
       "      <th>5</th>\n",
       "      <td>WILD APOLLO</td>\n",
       "      <td>2006-02</td>\n",
       "      <td>R</td>\n",
       "      <td>New</td>\n",
       "    </tr>\n",
       "  </tbody>\n",
       "</table>\n",
       "</div>"
      ],
      "text/plain": [
       "                title last_month rating    name\n",
       "1        ZHIVAGO CORE    2006-02  NC-17  Horror\n",
       "2  WORLD LEATHERNECKS    2006-02  PG-13  Horror\n",
       "3        WOMEN DORADO    2006-02      R  Action\n",
       "4         WINDOW SIDE    2006-02      R  Travel\n",
       "5         WILD APOLLO    2006-02      R     New"
      ]
     },
     "execution_count": 15,
     "metadata": {},
     "output_type": "execute_result"
    }
   ],
   "source": [
    "cat = df.select_dtypes(include = object)\n",
    "cat.head()"
   ]
  },
  {
   "cell_type": "code",
   "execution_count": 16,
   "id": "6fd8a5d4-e281-4ac6-8018-09be969f8c53",
   "metadata": {},
   "outputs": [
    {
     "data": {
      "text/plain": [
       "title         0\n",
       "last_month    0\n",
       "rating        0\n",
       "name          0\n",
       "dtype: int64"
      ]
     },
     "execution_count": 16,
     "metadata": {},
     "output_type": "execute_result"
    }
   ],
   "source": [
    "cat.isna().sum()"
   ]
  },
  {
   "cell_type": "code",
   "execution_count": 17,
   "id": "368d9f44-3610-46db-a408-ae15f50f6b97",
   "metadata": {},
   "outputs": [
    {
     "data": {
      "text/html": [
       "<div>\n",
       "<style scoped>\n",
       "    .dataframe tbody tr th:only-of-type {\n",
       "        vertical-align: middle;\n",
       "    }\n",
       "\n",
       "    .dataframe tbody tr th {\n",
       "        vertical-align: top;\n",
       "    }\n",
       "\n",
       "    .dataframe thead th {\n",
       "        text-align: right;\n",
       "    }\n",
       "</style>\n",
       "<table border=\"1\" class=\"dataframe\">\n",
       "  <thead>\n",
       "    <tr style=\"text-align: right;\">\n",
       "      <th></th>\n",
       "      <th>rating_G</th>\n",
       "      <th>rating_NC-17</th>\n",
       "      <th>rating_PG</th>\n",
       "      <th>rating_PG-13</th>\n",
       "      <th>rating_R</th>\n",
       "      <th>name_Action</th>\n",
       "      <th>name_Animation</th>\n",
       "      <th>name_Children</th>\n",
       "      <th>name_Classics</th>\n",
       "      <th>name_Comedy</th>\n",
       "      <th>...</th>\n",
       "      <th>name_Drama</th>\n",
       "      <th>name_Family</th>\n",
       "      <th>name_Foreign</th>\n",
       "      <th>name_Games</th>\n",
       "      <th>name_Horror</th>\n",
       "      <th>name_Music</th>\n",
       "      <th>name_New</th>\n",
       "      <th>name_Sci-Fi</th>\n",
       "      <th>name_Sports</th>\n",
       "      <th>name_Travel</th>\n",
       "    </tr>\n",
       "  </thead>\n",
       "  <tbody>\n",
       "    <tr>\n",
       "      <th>1</th>\n",
       "      <td>0</td>\n",
       "      <td>1</td>\n",
       "      <td>0</td>\n",
       "      <td>0</td>\n",
       "      <td>0</td>\n",
       "      <td>0</td>\n",
       "      <td>0</td>\n",
       "      <td>0</td>\n",
       "      <td>0</td>\n",
       "      <td>0</td>\n",
       "      <td>...</td>\n",
       "      <td>0</td>\n",
       "      <td>0</td>\n",
       "      <td>0</td>\n",
       "      <td>0</td>\n",
       "      <td>1</td>\n",
       "      <td>0</td>\n",
       "      <td>0</td>\n",
       "      <td>0</td>\n",
       "      <td>0</td>\n",
       "      <td>0</td>\n",
       "    </tr>\n",
       "    <tr>\n",
       "      <th>2</th>\n",
       "      <td>0</td>\n",
       "      <td>0</td>\n",
       "      <td>0</td>\n",
       "      <td>1</td>\n",
       "      <td>0</td>\n",
       "      <td>0</td>\n",
       "      <td>0</td>\n",
       "      <td>0</td>\n",
       "      <td>0</td>\n",
       "      <td>0</td>\n",
       "      <td>...</td>\n",
       "      <td>0</td>\n",
       "      <td>0</td>\n",
       "      <td>0</td>\n",
       "      <td>0</td>\n",
       "      <td>1</td>\n",
       "      <td>0</td>\n",
       "      <td>0</td>\n",
       "      <td>0</td>\n",
       "      <td>0</td>\n",
       "      <td>0</td>\n",
       "    </tr>\n",
       "    <tr>\n",
       "      <th>3</th>\n",
       "      <td>0</td>\n",
       "      <td>0</td>\n",
       "      <td>0</td>\n",
       "      <td>0</td>\n",
       "      <td>1</td>\n",
       "      <td>1</td>\n",
       "      <td>0</td>\n",
       "      <td>0</td>\n",
       "      <td>0</td>\n",
       "      <td>0</td>\n",
       "      <td>...</td>\n",
       "      <td>0</td>\n",
       "      <td>0</td>\n",
       "      <td>0</td>\n",
       "      <td>0</td>\n",
       "      <td>0</td>\n",
       "      <td>0</td>\n",
       "      <td>0</td>\n",
       "      <td>0</td>\n",
       "      <td>0</td>\n",
       "      <td>0</td>\n",
       "    </tr>\n",
       "    <tr>\n",
       "      <th>4</th>\n",
       "      <td>0</td>\n",
       "      <td>0</td>\n",
       "      <td>0</td>\n",
       "      <td>0</td>\n",
       "      <td>1</td>\n",
       "      <td>0</td>\n",
       "      <td>0</td>\n",
       "      <td>0</td>\n",
       "      <td>0</td>\n",
       "      <td>0</td>\n",
       "      <td>...</td>\n",
       "      <td>0</td>\n",
       "      <td>0</td>\n",
       "      <td>0</td>\n",
       "      <td>0</td>\n",
       "      <td>0</td>\n",
       "      <td>0</td>\n",
       "      <td>0</td>\n",
       "      <td>0</td>\n",
       "      <td>0</td>\n",
       "      <td>1</td>\n",
       "    </tr>\n",
       "    <tr>\n",
       "      <th>5</th>\n",
       "      <td>0</td>\n",
       "      <td>0</td>\n",
       "      <td>0</td>\n",
       "      <td>0</td>\n",
       "      <td>1</td>\n",
       "      <td>0</td>\n",
       "      <td>0</td>\n",
       "      <td>0</td>\n",
       "      <td>0</td>\n",
       "      <td>0</td>\n",
       "      <td>...</td>\n",
       "      <td>0</td>\n",
       "      <td>0</td>\n",
       "      <td>0</td>\n",
       "      <td>0</td>\n",
       "      <td>0</td>\n",
       "      <td>0</td>\n",
       "      <td>1</td>\n",
       "      <td>0</td>\n",
       "      <td>0</td>\n",
       "      <td>0</td>\n",
       "    </tr>\n",
       "    <tr>\n",
       "      <th>...</th>\n",
       "      <td>...</td>\n",
       "      <td>...</td>\n",
       "      <td>...</td>\n",
       "      <td>...</td>\n",
       "      <td>...</td>\n",
       "      <td>...</td>\n",
       "      <td>...</td>\n",
       "      <td>...</td>\n",
       "      <td>...</td>\n",
       "      <td>...</td>\n",
       "      <td>...</td>\n",
       "      <td>...</td>\n",
       "      <td>...</td>\n",
       "      <td>...</td>\n",
       "      <td>...</td>\n",
       "      <td>...</td>\n",
       "      <td>...</td>\n",
       "      <td>...</td>\n",
       "      <td>...</td>\n",
       "      <td>...</td>\n",
       "      <td>...</td>\n",
       "    </tr>\n",
       "    <tr>\n",
       "      <th>16040</th>\n",
       "      <td>0</td>\n",
       "      <td>1</td>\n",
       "      <td>0</td>\n",
       "      <td>0</td>\n",
       "      <td>0</td>\n",
       "      <td>0</td>\n",
       "      <td>0</td>\n",
       "      <td>1</td>\n",
       "      <td>0</td>\n",
       "      <td>0</td>\n",
       "      <td>...</td>\n",
       "      <td>0</td>\n",
       "      <td>0</td>\n",
       "      <td>0</td>\n",
       "      <td>0</td>\n",
       "      <td>0</td>\n",
       "      <td>0</td>\n",
       "      <td>0</td>\n",
       "      <td>0</td>\n",
       "      <td>0</td>\n",
       "      <td>0</td>\n",
       "    </tr>\n",
       "    <tr>\n",
       "      <th>16041</th>\n",
       "      <td>0</td>\n",
       "      <td>0</td>\n",
       "      <td>0</td>\n",
       "      <td>0</td>\n",
       "      <td>1</td>\n",
       "      <td>0</td>\n",
       "      <td>0</td>\n",
       "      <td>0</td>\n",
       "      <td>0</td>\n",
       "      <td>0</td>\n",
       "      <td>...</td>\n",
       "      <td>0</td>\n",
       "      <td>0</td>\n",
       "      <td>0</td>\n",
       "      <td>0</td>\n",
       "      <td>1</td>\n",
       "      <td>0</td>\n",
       "      <td>0</td>\n",
       "      <td>0</td>\n",
       "      <td>0</td>\n",
       "      <td>0</td>\n",
       "    </tr>\n",
       "    <tr>\n",
       "      <th>16042</th>\n",
       "      <td>1</td>\n",
       "      <td>0</td>\n",
       "      <td>0</td>\n",
       "      <td>0</td>\n",
       "      <td>0</td>\n",
       "      <td>0</td>\n",
       "      <td>0</td>\n",
       "      <td>1</td>\n",
       "      <td>0</td>\n",
       "      <td>0</td>\n",
       "      <td>...</td>\n",
       "      <td>0</td>\n",
       "      <td>0</td>\n",
       "      <td>0</td>\n",
       "      <td>0</td>\n",
       "      <td>0</td>\n",
       "      <td>0</td>\n",
       "      <td>0</td>\n",
       "      <td>0</td>\n",
       "      <td>0</td>\n",
       "      <td>0</td>\n",
       "    </tr>\n",
       "    <tr>\n",
       "      <th>16043</th>\n",
       "      <td>0</td>\n",
       "      <td>0</td>\n",
       "      <td>0</td>\n",
       "      <td>0</td>\n",
       "      <td>1</td>\n",
       "      <td>0</td>\n",
       "      <td>0</td>\n",
       "      <td>0</td>\n",
       "      <td>0</td>\n",
       "      <td>0</td>\n",
       "      <td>...</td>\n",
       "      <td>0</td>\n",
       "      <td>0</td>\n",
       "      <td>0</td>\n",
       "      <td>0</td>\n",
       "      <td>0</td>\n",
       "      <td>1</td>\n",
       "      <td>0</td>\n",
       "      <td>0</td>\n",
       "      <td>0</td>\n",
       "      <td>0</td>\n",
       "    </tr>\n",
       "    <tr>\n",
       "      <th>16044</th>\n",
       "      <td>1</td>\n",
       "      <td>0</td>\n",
       "      <td>0</td>\n",
       "      <td>0</td>\n",
       "      <td>0</td>\n",
       "      <td>0</td>\n",
       "      <td>0</td>\n",
       "      <td>0</td>\n",
       "      <td>0</td>\n",
       "      <td>0</td>\n",
       "      <td>...</td>\n",
       "      <td>0</td>\n",
       "      <td>1</td>\n",
       "      <td>0</td>\n",
       "      <td>0</td>\n",
       "      <td>0</td>\n",
       "      <td>0</td>\n",
       "      <td>0</td>\n",
       "      <td>0</td>\n",
       "      <td>0</td>\n",
       "      <td>0</td>\n",
       "    </tr>\n",
       "  </tbody>\n",
       "</table>\n",
       "<p>16044 rows × 21 columns</p>\n",
       "</div>"
      ],
      "text/plain": [
       "       rating_G  rating_NC-17  rating_PG  rating_PG-13  rating_R  name_Action  \\\n",
       "1             0             1          0             0         0            0   \n",
       "2             0             0          0             1         0            0   \n",
       "3             0             0          0             0         1            1   \n",
       "4             0             0          0             0         1            0   \n",
       "5             0             0          0             0         1            0   \n",
       "...         ...           ...        ...           ...       ...          ...   \n",
       "16040         0             1          0             0         0            0   \n",
       "16041         0             0          0             0         1            0   \n",
       "16042         1             0          0             0         0            0   \n",
       "16043         0             0          0             0         1            0   \n",
       "16044         1             0          0             0         0            0   \n",
       "\n",
       "       name_Animation  name_Children  name_Classics  name_Comedy  ...  \\\n",
       "1                   0              0              0            0  ...   \n",
       "2                   0              0              0            0  ...   \n",
       "3                   0              0              0            0  ...   \n",
       "4                   0              0              0            0  ...   \n",
       "5                   0              0              0            0  ...   \n",
       "...               ...            ...            ...          ...  ...   \n",
       "16040               0              1              0            0  ...   \n",
       "16041               0              0              0            0  ...   \n",
       "16042               0              1              0            0  ...   \n",
       "16043               0              0              0            0  ...   \n",
       "16044               0              0              0            0  ...   \n",
       "\n",
       "       name_Drama  name_Family  name_Foreign  name_Games  name_Horror  \\\n",
       "1               0            0             0           0            1   \n",
       "2               0            0             0           0            1   \n",
       "3               0            0             0           0            0   \n",
       "4               0            0             0           0            0   \n",
       "5               0            0             0           0            0   \n",
       "...           ...          ...           ...         ...          ...   \n",
       "16040           0            0             0           0            0   \n",
       "16041           0            0             0           0            1   \n",
       "16042           0            0             0           0            0   \n",
       "16043           0            0             0           0            0   \n",
       "16044           0            1             0           0            0   \n",
       "\n",
       "       name_Music  name_New  name_Sci-Fi  name_Sports  name_Travel  \n",
       "1               0         0            0            0            0  \n",
       "2               0         0            0            0            0  \n",
       "3               0         0            0            0            0  \n",
       "4               0         0            0            0            1  \n",
       "5               0         1            0            0            0  \n",
       "...           ...       ...          ...          ...          ...  \n",
       "16040           0         0            0            0            0  \n",
       "16041           0         0            0            0            0  \n",
       "16042           0         0            0            0            0  \n",
       "16043           1         0            0            0            0  \n",
       "16044           0         0            0            0            0  \n",
       "\n",
       "[16044 rows x 21 columns]"
      ]
     },
     "execution_count": 17,
     "metadata": {},
     "output_type": "execute_result"
    }
   ],
   "source": [
    "cat = cat.drop(['title', 'last_month'], axis =1)\n",
    "categorical = pd.get_dummies(cat, columns=[ 'rating','name'])\n",
    "categorical"
   ]
  },
  {
   "cell_type": "markdown",
   "id": "219df8f5-4a4a-4bd2-ae41-f692a30f77c9",
   "metadata": {},
   "source": [
    "#### Create a logistic regression model to predict this variable from the cleaned data."
   ]
  },
  {
   "cell_type": "code",
   "execution_count": 18,
   "id": "f313431a-072e-4ffa-bc7d-7702ccf1ce39",
   "metadata": {},
   "outputs": [],
   "source": [
    "y = df['Boolean_check'] # Target appart\n",
    "X = np.concatenate((num, categorical), axis=1) # Numerical and dummies from categoricals"
   ]
  },
  {
   "cell_type": "code",
   "execution_count": 19,
   "id": "b5d53450-0874-4ae9-9288-d3d8bc1cf28e",
   "metadata": {},
   "outputs": [],
   "source": [
    "# We separate training and testing datasets and correspondant targets\n",
    "X_train, X_test, y_train, y_test = train_test_split(X, y, test_size=0.3, random_state=100)"
   ]
  },
  {
   "cell_type": "code",
   "execution_count": 20,
   "id": "48da178a-c41b-40f7-a611-0b8e9b50894b",
   "metadata": {},
   "outputs": [],
   "source": [
    "# We traing the training dataset using Logistic Regression (multiclass classification)\n",
    "classification = LogisticRegression(random_state=0, multi_class='auto').fit(X_train, y_train)"
   ]
  },
  {
   "cell_type": "code",
   "execution_count": 21,
   "id": "0ee99d0c-d277-4de0-b114-c1ae4d9cd879",
   "metadata": {},
   "outputs": [],
   "source": [
    "# We predict on the testing dataset\n",
    "predictions = classification.predict(X_test)"
   ]
  },
  {
   "cell_type": "markdown",
   "id": "a160c872-d6b4-45fb-86d6-2ddefe16092b",
   "metadata": {},
   "source": [
    "#### check how well the model performs"
   ]
  },
  {
   "cell_type": "code",
   "execution_count": 22,
   "id": "d9fe1946-6eae-449d-a8e4-8e7b2c618cce",
   "metadata": {},
   "outputs": [
    {
     "data": {
      "text/plain": [
       "False    4814\n",
       "dtype: int64"
      ]
     },
     "execution_count": 22,
     "metadata": {},
     "output_type": "execute_result"
    }
   ],
   "source": [
    "pd.Series(predictions).value_counts()"
   ]
  },
  {
   "cell_type": "code",
   "execution_count": 23,
   "id": "ad212f76-22b5-4aac-8d5d-eda717a189dd",
   "metadata": {},
   "outputs": [
    {
     "data": {
      "text/plain": [
       "False    4752\n",
       "True       62\n",
       "Name: Boolean_check, dtype: int64"
      ]
     },
     "execution_count": 23,
     "metadata": {},
     "output_type": "execute_result"
    }
   ],
   "source": [
    "y_test.value_counts()"
   ]
  },
  {
   "cell_type": "code",
   "execution_count": 24,
   "id": "28b96f9b-80a3-4fd3-ada9-697c7cfa45ab",
   "metadata": {},
   "outputs": [
    {
     "data": {
      "text/plain": [
       "array([[4752,    0],\n",
       "       [  62,    0]])"
      ]
     },
     "execution_count": 24,
     "metadata": {},
     "output_type": "execute_result"
    }
   ],
   "source": [
    "from sklearn.metrics import confusion_matrix\n",
    "confusion_matrix(y_test, predictions)"
   ]
  },
  {
   "cell_type": "code",
   "execution_count": 25,
   "id": "e45812aa-ee8a-4b49-9d60-a5a4a50a4409",
   "metadata": {},
   "outputs": [
    {
     "data": {
      "text/plain": [
       "<AxesSubplot:>"
      ]
     },
     "execution_count": 25,
     "metadata": {},
     "output_type": "execute_result"
    },
    {
     "data": {
      "image/png": "[encoded data removed]",
      "text/plain": [
       "<Figure size 432x288 with 2 Axes>"
      ]
     },
     "metadata": {
      "needs_background": "light"
     },
     "output_type": "display_data"
    }
   ],
   "source": [
    "from sklearn.metrics import confusion_matrix\n",
    "cm = confusion_matrix(y_test, predictions)\n",
    "sns.heatmap(cm, annot=True,fmt='g')\n"
   ]
  },
  {
   "cell_type": "code",
   "execution_count": 26,
   "id": "330c5cf8-ffd6-4c2e-99cd-62b88f221655",
   "metadata": {},
   "outputs": [
    {
     "name": "stdout",
     "output_type": "stream",
     "text": [
      "\n",
      "Accuracy: 0.99\n",
      "\n"
     ]
    }
   ],
   "source": [
    "# Accuracy\n",
    "from sklearn.metrics import accuracy_score\n",
    "print('\\nAccuracy: {:.2f}\\n'.format(accuracy_score(y_test, predictions)))"
   ]
  },
  {
   "cell_type": "code",
   "execution_count": 27,
   "id": "4162573b-5e2f-43f4-96e8-fb05dbdf21b3",
   "metadata": {},
   "outputs": [
    {
     "data": {
      "text/plain": [
       "[<matplotlib.lines.Line2D at 0x7f8d49d9ebb0>]"
      ]
     },
     "execution_count": 27,
     "metadata": {},
     "output_type": "execute_result"
    },
    {
     "data": {
      "image/png": "[encoded data removed]",
      "text/plain": [
       "<Figure size 432x288 with 1 Axes>"
      ]
     },
     "metadata": {
      "needs_background": "light"
     },
     "output_type": "display_data"
    }
   ],
   "source": [
    "from sklearn import metrics\n",
    "import matplotlib.pyplot as plt\n",
    "\n",
    "y_pred_proba = classification.predict_proba(X_test)[::,1]\n",
    "fpr, tpr, _ = metrics.roc_curve(y_test,  y_pred_proba)\n",
    "auc = metrics.roc_auc_score(y_test, y_pred_proba)\n",
    "plt.plot(fpr,tpr)"
   ]
  },
  {
   "cell_type": "code",
   "execution_count": null,
   "id": "9f9849ad-4a14-41fd-aa5f-6bbeedecc97a",
   "metadata": {},
   "outputs": [],
   "source": []
  },
  {
   "cell_type": "code",
   "execution_count": null,
   "id": "7873c578",
   "metadata": {},
   "outputs": [],
   "source": []
  }
 ],
 "metadata": {
  "kernelspec": {
   "display_name": "Python 3 (ipykernel)",
   "language": "python",
   "name": "python3"
  },
  "language_info": {
   "codemirror_mode": {
    "name": "ipython",
    "version": 3
   },
   "file_extension": ".py",
   "mimetype": "text/x-python",
   "name": "python",
   "nbconvert_exporter": "python",
   "pygments_lexer": "ipython3",
   "version": "3.9.7"
  }
 },
 "nbformat": 4,
 "nbformat_minor": 5
}
